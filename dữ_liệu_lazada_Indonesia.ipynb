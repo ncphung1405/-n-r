{
  "cells": [
    {
      "cell_type": "markdown",
      "metadata": {
        "id": "view-in-github",
        "colab_type": "text"
      },
      "source": [
        "<a href=\"https://colab.research.google.com/github/ncphung1405/DO_AN_PTDL_R/blob/main/d%E1%BB%AF_li%E1%BB%87u_lazada_Indonesia.ipynb\" target=\"_parent\"><img src=\"https://colab.research.google.com/assets/colab-badge.svg\" alt=\"Open In Colab\"/></a>"
      ]
    },
    {
      "cell_type": "markdown",
      "metadata": {
        "id": "bw9t7f_CP6Dt"
      },
      "source": [
        "#**Hiển thị Trực quan hóa Dữ liệu Khách hàng của Lazada Indonesia**"
      ]
    },
    {
      "cell_type": "markdown",
      "metadata": {
        "id": "MeNi_SyxQe-a"
      },
      "source": [
        "Mục đích của việc làm này là để hiển thị dữ liệu khách hàng của Lazada Indonesia bằng cách sử dụng Pandas DataFrame.\n",
        "\n",
        "-Nguồn tập dữ liệu : https://www.kaggle.com/grikomsn/lazada-indonesian-reviews"
      ]
    },
    {
      "cell_type": "markdown",
      "metadata": {
        "id": "nAnKcAZoSMc-"
      },
      "source": [
        "##**1.Khám phá dữ liệu**"
      ]
    },
    {
      "cell_type": "code",
      "execution_count": null,
      "metadata": {
        "colab": {
          "base_uri": "https://localhost:8080/"
        },
        "id": "WIroVPo9O_Od",
        "outputId": "39933f41-378a-4ecb-ca12-16286a831c59"
      },
      "outputs": [
        {
          "output_type": "stream",
          "name": "stdout",
          "text": [
            "Drive already mounted at /content/drive; to attempt to forcibly remount, call drive.mount(\"/content/drive\", force_remount=True).\n"
          ]
        }
      ],
      "source": [
        "import pandas as pd\n",
        "import numpy as np\n",
        "import matplotlib.pyplot as plt\n",
        "import seaborn as sns\n",
        "\n",
        "#Gắn tại Drive\n",
        "from google.colab import drive\n",
        "drive.mount('/content/drive')"
      ]
    },
    {
      "cell_type": "code",
      "execution_count": null,
      "metadata": {
        "id": "0FSxz9qxSA5k"
      },
      "outputs": [],
      "source": [
        "#tập dữ liệu\n",
        "df = pd.read_csv('/content/drive/MyDrive/20191002-reviews.csv.zip')"
      ]
    },
    {
      "cell_type": "code",
      "execution_count": null,
      "metadata": {
        "colab": {
          "base_uri": "https://localhost:8080/"
        },
        "id": "zdGYAhcRg27l",
        "outputId": "969a5701-441a-49c5-fb83-021ad586dceb"
      },
      "outputs": [
        {
          "output_type": "execute_result",
          "data": {
            "text/plain": [
              "itemId              int64\n",
              "category           object\n",
              "name               object\n",
              "rating              int64\n",
              "originalRating    float64\n",
              "reviewTitle        object\n",
              "reviewContent      object\n",
              "likeCount           int64\n",
              "upVotes             int64\n",
              "downVotes           int64\n",
              "helpful              bool\n",
              "relevanceScore    float64\n",
              "boughtDate         object\n",
              "clientType         object\n",
              "retrievedDate      object\n",
              "dtype: object"
            ]
          },
          "metadata": {},
          "execution_count": 44
        }
      ],
      "source": [
        "#kiểu dữ liệu mỗi cột\n",
        "df.dtypes"
      ]
    },
    {
      "cell_type": "code",
      "execution_count": null,
      "metadata": {
        "colab": {
          "base_uri": "https://localhost:8080/"
        },
        "id": "sRKmJ3uMTA-u",
        "outputId": "5db4d518-9e7b-40d9-c792-317bda03fc07"
      },
      "outputs": [
        {
          "output_type": "execute_result",
          "data": {
            "text/plain": [
              "(203787, 15)"
            ]
          },
          "metadata": {},
          "execution_count": 45
        }
      ],
      "source": [
        "#số hàng và cột\n",
        "df.shape"
      ]
    },
    {
      "cell_type": "code",
      "execution_count": null,
      "metadata": {
        "colab": {
          "base_uri": "https://localhost:8080/",
          "height": 441
        },
        "id": "22idDhaYTE2V",
        "outputId": "6454397a-1275-48c6-e85e-ccc1871dba4a"
      },
      "outputs": [
        {
          "output_type": "execute_result",
          "data": {
            "text/html": [
              "\n",
              "  <div id=\"df-5211570d-138c-4c56-b9bb-e75cb9173b7b\">\n",
              "    <div class=\"colab-df-container\">\n",
              "      <div>\n",
              "<style scoped>\n",
              "    .dataframe tbody tr th:only-of-type {\n",
              "        vertical-align: middle;\n",
              "    }\n",
              "\n",
              "    .dataframe tbody tr th {\n",
              "        vertical-align: top;\n",
              "    }\n",
              "\n",
              "    .dataframe thead th {\n",
              "        text-align: right;\n",
              "    }\n",
              "</style>\n",
              "<table border=\"1\" class=\"dataframe\">\n",
              "  <thead>\n",
              "    <tr style=\"text-align: right;\">\n",
              "      <th></th>\n",
              "      <th>itemId</th>\n",
              "      <th>category</th>\n",
              "      <th>name</th>\n",
              "      <th>rating</th>\n",
              "      <th>originalRating</th>\n",
              "      <th>reviewTitle</th>\n",
              "      <th>reviewContent</th>\n",
              "      <th>likeCount</th>\n",
              "      <th>upVotes</th>\n",
              "      <th>downVotes</th>\n",
              "      <th>helpful</th>\n",
              "      <th>relevanceScore</th>\n",
              "      <th>boughtDate</th>\n",
              "      <th>clientType</th>\n",
              "      <th>retrievedDate</th>\n",
              "    </tr>\n",
              "  </thead>\n",
              "  <tbody>\n",
              "    <tr>\n",
              "      <th>0</th>\n",
              "      <td>100002528</td>\n",
              "      <td>beli-harddisk-eksternal</td>\n",
              "      <td>Kamal U.</td>\n",
              "      <td>5</td>\n",
              "      <td>NaN</td>\n",
              "      <td>NaN</td>\n",
              "      <td>bagus  mantap dah sesui pesanan</td>\n",
              "      <td>0</td>\n",
              "      <td>0</td>\n",
              "      <td>0</td>\n",
              "      <td>True</td>\n",
              "      <td>26.51</td>\n",
              "      <td>09 Apr 2019</td>\n",
              "      <td>androidApp</td>\n",
              "      <td>2019-10-02</td>\n",
              "    </tr>\n",
              "    <tr>\n",
              "      <th>1</th>\n",
              "      <td>100002528</td>\n",
              "      <td>beli-harddisk-eksternal</td>\n",
              "      <td>yofanca m.</td>\n",
              "      <td>4</td>\n",
              "      <td>NaN</td>\n",
              "      <td>NaN</td>\n",
              "      <td>Bagus, sesuai foto</td>\n",
              "      <td>0</td>\n",
              "      <td>0</td>\n",
              "      <td>0</td>\n",
              "      <td>True</td>\n",
              "      <td>22.49</td>\n",
              "      <td>24 Sep 2017</td>\n",
              "      <td>androidApp</td>\n",
              "      <td>2019-10-02</td>\n",
              "    </tr>\n",
              "    <tr>\n",
              "      <th>2</th>\n",
              "      <td>100002528</td>\n",
              "      <td>beli-harddisk-eksternal</td>\n",
              "      <td>Lazada Customer</td>\n",
              "      <td>5</td>\n",
              "      <td>NaN</td>\n",
              "      <td>ok mantaaapppp barang sesuai pesanan.. good</td>\n",
              "      <td>okkkkk mantaaaaaaapppp ... goood</td>\n",
              "      <td>0</td>\n",
              "      <td>0</td>\n",
              "      <td>0</td>\n",
              "      <td>True</td>\n",
              "      <td>21.50</td>\n",
              "      <td>04 Apr 2018</td>\n",
              "      <td>androidApp</td>\n",
              "      <td>2019-10-02</td>\n",
              "    </tr>\n",
              "    <tr>\n",
              "      <th>3</th>\n",
              "      <td>100002528</td>\n",
              "      <td>beli-harddisk-eksternal</td>\n",
              "      <td>Lazada Customer</td>\n",
              "      <td>4</td>\n",
              "      <td>NaN</td>\n",
              "      <td>NaN</td>\n",
              "      <td>bagus sesuai</td>\n",
              "      <td>0</td>\n",
              "      <td>0</td>\n",
              "      <td>0</td>\n",
              "      <td>True</td>\n",
              "      <td>20.51</td>\n",
              "      <td>22 Sep 2017</td>\n",
              "      <td>androidApp</td>\n",
              "      <td>2019-10-02</td>\n",
              "    </tr>\n",
              "    <tr>\n",
              "      <th>4</th>\n",
              "      <td>100002528</td>\n",
              "      <td>beli-harddisk-eksternal</td>\n",
              "      <td>Yosep M.</td>\n",
              "      <td>5</td>\n",
              "      <td>NaN</td>\n",
              "      <td>NaN</td>\n",
              "      <td>NaN</td>\n",
              "      <td>0</td>\n",
              "      <td>0</td>\n",
              "      <td>0</td>\n",
              "      <td>True</td>\n",
              "      <td>16.01</td>\n",
              "      <td>17 Agu 2018</td>\n",
              "      <td>androidApp</td>\n",
              "      <td>2019-10-02</td>\n",
              "    </tr>\n",
              "  </tbody>\n",
              "</table>\n",
              "</div>\n",
              "      <button class=\"colab-df-convert\" onclick=\"convertToInteractive('df-5211570d-138c-4c56-b9bb-e75cb9173b7b')\"\n",
              "              title=\"Convert this dataframe to an interactive table.\"\n",
              "              style=\"display:none;\">\n",
              "        \n",
              "  <svg xmlns=\"http://www.w3.org/2000/svg\" height=\"24px\"viewBox=\"0 0 24 24\"\n",
              "       width=\"24px\">\n",
              "    <path d=\"M0 0h24v24H0V0z\" fill=\"none\"/>\n",
              "    <path d=\"M18.56 5.44l.94 2.06.94-2.06 2.06-.94-2.06-.94-.94-2.06-.94 2.06-2.06.94zm-11 1L8.5 8.5l.94-2.06 2.06-.94-2.06-.94L8.5 2.5l-.94 2.06-2.06.94zm10 10l.94 2.06.94-2.06 2.06-.94-2.06-.94-.94-2.06-.94 2.06-2.06.94z\"/><path d=\"M17.41 7.96l-1.37-1.37c-.4-.4-.92-.59-1.43-.59-.52 0-1.04.2-1.43.59L10.3 9.45l-7.72 7.72c-.78.78-.78 2.05 0 2.83L4 21.41c.39.39.9.59 1.41.59.51 0 1.02-.2 1.41-.59l7.78-7.78 2.81-2.81c.8-.78.8-2.07 0-2.86zM5.41 20L4 18.59l7.72-7.72 1.47 1.35L5.41 20z\"/>\n",
              "  </svg>\n",
              "      </button>\n",
              "      \n",
              "  <style>\n",
              "    .colab-df-container {\n",
              "      display:flex;\n",
              "      flex-wrap:wrap;\n",
              "      gap: 12px;\n",
              "    }\n",
              "\n",
              "    .colab-df-convert {\n",
              "      background-color: #E8F0FE;\n",
              "      border: none;\n",
              "      border-radius: 50%;\n",
              "      cursor: pointer;\n",
              "      display: none;\n",
              "      fill: #1967D2;\n",
              "      height: 32px;\n",
              "      padding: 0 0 0 0;\n",
              "      width: 32px;\n",
              "    }\n",
              "\n",
              "    .colab-df-convert:hover {\n",
              "      background-color: #E2EBFA;\n",
              "      box-shadow: 0px 1px 2px rgba(60, 64, 67, 0.3), 0px 1px 3px 1px rgba(60, 64, 67, 0.15);\n",
              "      fill: #174EA6;\n",
              "    }\n",
              "\n",
              "    [theme=dark] .colab-df-convert {\n",
              "      background-color: #3B4455;\n",
              "      fill: #D2E3FC;\n",
              "    }\n",
              "\n",
              "    [theme=dark] .colab-df-convert:hover {\n",
              "      background-color: #434B5C;\n",
              "      box-shadow: 0px 1px 3px 1px rgba(0, 0, 0, 0.15);\n",
              "      filter: drop-shadow(0px 1px 2px rgba(0, 0, 0, 0.3));\n",
              "      fill: #FFFFFF;\n",
              "    }\n",
              "  </style>\n",
              "\n",
              "      <script>\n",
              "        const buttonEl =\n",
              "          document.querySelector('#df-5211570d-138c-4c56-b9bb-e75cb9173b7b button.colab-df-convert');\n",
              "        buttonEl.style.display =\n",
              "          google.colab.kernel.accessAllowed ? 'block' : 'none';\n",
              "\n",
              "        async function convertToInteractive(key) {\n",
              "          const element = document.querySelector('#df-5211570d-138c-4c56-b9bb-e75cb9173b7b');\n",
              "          const dataTable =\n",
              "            await google.colab.kernel.invokeFunction('convertToInteractive',\n",
              "                                                     [key], {});\n",
              "          if (!dataTable) return;\n",
              "\n",
              "          const docLinkHtml = 'Like what you see? Visit the ' +\n",
              "            '<a target=\"_blank\" href=https://colab.research.google.com/notebooks/data_table.ipynb>data table notebook</a>'\n",
              "            + ' to learn more about interactive tables.';\n",
              "          element.innerHTML = '';\n",
              "          dataTable['output_type'] = 'display_data';\n",
              "          await google.colab.output.renderOutput(dataTable, element);\n",
              "          const docLink = document.createElement('div');\n",
              "          docLink.innerHTML = docLinkHtml;\n",
              "          element.appendChild(docLink);\n",
              "        }\n",
              "      </script>\n",
              "    </div>\n",
              "  </div>\n",
              "  "
            ],
            "text/plain": [
              "      itemId                 category  ...  clientType  retrievedDate\n",
              "0  100002528  beli-harddisk-eksternal  ...  androidApp     2019-10-02\n",
              "1  100002528  beli-harddisk-eksternal  ...  androidApp     2019-10-02\n",
              "2  100002528  beli-harddisk-eksternal  ...  androidApp     2019-10-02\n",
              "3  100002528  beli-harddisk-eksternal  ...  androidApp     2019-10-02\n",
              "4  100002528  beli-harddisk-eksternal  ...  androidApp     2019-10-02\n",
              "\n",
              "[5 rows x 15 columns]"
            ]
          },
          "metadata": {},
          "execution_count": 46
        }
      ],
      "source": [
        "#hiển thị 5 hàng trên cùng có trong tập dữ liệu\n",
        "df.head()"
      ]
    },
    {
      "cell_type": "markdown",
      "metadata": {
        "id": "e4zBvHutfnr-"
      },
      "source": [
        "##**2. Làm sạch dữ liệu**\n"
      ]
    },
    {
      "cell_type": "code",
      "execution_count": null,
      "metadata": {
        "colab": {
          "base_uri": "https://localhost:8080/"
        },
        "id": "kCNxTYuPfsjk",
        "outputId": "3438f817-1c23-4cf3-e51f-80cb6ce11e71"
      },
      "outputs": [
        {
          "output_type": "execute_result",
          "data": {
            "text/plain": [
              "Index(['itemId', 'category', 'name', 'rating', 'originalRating', 'reviewTitle',\n",
              "       'reviewContent', 'likeCount', 'upVotes', 'downVotes', 'helpful',\n",
              "       'relevanceScore', 'boughtDate', 'clientType', 'retrievedDate'],\n",
              "      dtype='object')"
            ]
          },
          "metadata": {},
          "execution_count": 47
        }
      ],
      "source": [
        "#tên cột trong tập dữ liệu\n",
        "df.columns"
      ]
    },
    {
      "cell_type": "code",
      "source": [
        "#loại bỏ các cột không cần thiết\n",
        "df.drop(['itemId', 'name', 'reviewContent', 'originalRating', 'reviewTitle', 'likeCount', 'upVotes', 'downVotes', 'helpful', 'boughtDate', 'retrievedDate'],axis=1,inplace=True) "
      ],
      "metadata": {
        "id": "eUcONjnye5u5"
      },
      "execution_count": null,
      "outputs": []
    },
    {
      "cell_type": "code",
      "execution_count": null,
      "metadata": {
        "colab": {
          "base_uri": "https://localhost:8080/",
          "height": 206
        },
        "id": "I2iSF4lvgvM7",
        "outputId": "3ed9bbcf-7cff-4a0c-e9a9-19c7d3e98990"
      },
      "outputs": [
        {
          "output_type": "execute_result",
          "data": {
            "text/html": [
              "\n",
              "  <div id=\"df-afd02b6f-1973-4c0c-81ff-e975d19ac94e\">\n",
              "    <div class=\"colab-df-container\">\n",
              "      <div>\n",
              "<style scoped>\n",
              "    .dataframe tbody tr th:only-of-type {\n",
              "        vertical-align: middle;\n",
              "    }\n",
              "\n",
              "    .dataframe tbody tr th {\n",
              "        vertical-align: top;\n",
              "    }\n",
              "\n",
              "    .dataframe thead th {\n",
              "        text-align: right;\n",
              "    }\n",
              "</style>\n",
              "<table border=\"1\" class=\"dataframe\">\n",
              "  <thead>\n",
              "    <tr style=\"text-align: right;\">\n",
              "      <th></th>\n",
              "      <th>category</th>\n",
              "      <th>rating</th>\n",
              "      <th>relevanceScore</th>\n",
              "      <th>clientType</th>\n",
              "    </tr>\n",
              "  </thead>\n",
              "  <tbody>\n",
              "    <tr>\n",
              "      <th>0</th>\n",
              "      <td>beli-harddisk-eksternal</td>\n",
              "      <td>5</td>\n",
              "      <td>26.51</td>\n",
              "      <td>androidApp</td>\n",
              "    </tr>\n",
              "    <tr>\n",
              "      <th>1</th>\n",
              "      <td>beli-harddisk-eksternal</td>\n",
              "      <td>4</td>\n",
              "      <td>22.49</td>\n",
              "      <td>androidApp</td>\n",
              "    </tr>\n",
              "    <tr>\n",
              "      <th>2</th>\n",
              "      <td>beli-harddisk-eksternal</td>\n",
              "      <td>5</td>\n",
              "      <td>21.50</td>\n",
              "      <td>androidApp</td>\n",
              "    </tr>\n",
              "    <tr>\n",
              "      <th>3</th>\n",
              "      <td>beli-harddisk-eksternal</td>\n",
              "      <td>4</td>\n",
              "      <td>20.51</td>\n",
              "      <td>androidApp</td>\n",
              "    </tr>\n",
              "    <tr>\n",
              "      <th>4</th>\n",
              "      <td>beli-harddisk-eksternal</td>\n",
              "      <td>5</td>\n",
              "      <td>16.01</td>\n",
              "      <td>androidApp</td>\n",
              "    </tr>\n",
              "  </tbody>\n",
              "</table>\n",
              "</div>\n",
              "      <button class=\"colab-df-convert\" onclick=\"convertToInteractive('df-afd02b6f-1973-4c0c-81ff-e975d19ac94e')\"\n",
              "              title=\"Convert this dataframe to an interactive table.\"\n",
              "              style=\"display:none;\">\n",
              "        \n",
              "  <svg xmlns=\"http://www.w3.org/2000/svg\" height=\"24px\"viewBox=\"0 0 24 24\"\n",
              "       width=\"24px\">\n",
              "    <path d=\"M0 0h24v24H0V0z\" fill=\"none\"/>\n",
              "    <path d=\"M18.56 5.44l.94 2.06.94-2.06 2.06-.94-2.06-.94-.94-2.06-.94 2.06-2.06.94zm-11 1L8.5 8.5l.94-2.06 2.06-.94-2.06-.94L8.5 2.5l-.94 2.06-2.06.94zm10 10l.94 2.06.94-2.06 2.06-.94-2.06-.94-.94-2.06-.94 2.06-2.06.94z\"/><path d=\"M17.41 7.96l-1.37-1.37c-.4-.4-.92-.59-1.43-.59-.52 0-1.04.2-1.43.59L10.3 9.45l-7.72 7.72c-.78.78-.78 2.05 0 2.83L4 21.41c.39.39.9.59 1.41.59.51 0 1.02-.2 1.41-.59l7.78-7.78 2.81-2.81c.8-.78.8-2.07 0-2.86zM5.41 20L4 18.59l7.72-7.72 1.47 1.35L5.41 20z\"/>\n",
              "  </svg>\n",
              "      </button>\n",
              "      \n",
              "  <style>\n",
              "    .colab-df-container {\n",
              "      display:flex;\n",
              "      flex-wrap:wrap;\n",
              "      gap: 12px;\n",
              "    }\n",
              "\n",
              "    .colab-df-convert {\n",
              "      background-color: #E8F0FE;\n",
              "      border: none;\n",
              "      border-radius: 50%;\n",
              "      cursor: pointer;\n",
              "      display: none;\n",
              "      fill: #1967D2;\n",
              "      height: 32px;\n",
              "      padding: 0 0 0 0;\n",
              "      width: 32px;\n",
              "    }\n",
              "\n",
              "    .colab-df-convert:hover {\n",
              "      background-color: #E2EBFA;\n",
              "      box-shadow: 0px 1px 2px rgba(60, 64, 67, 0.3), 0px 1px 3px 1px rgba(60, 64, 67, 0.15);\n",
              "      fill: #174EA6;\n",
              "    }\n",
              "\n",
              "    [theme=dark] .colab-df-convert {\n",
              "      background-color: #3B4455;\n",
              "      fill: #D2E3FC;\n",
              "    }\n",
              "\n",
              "    [theme=dark] .colab-df-convert:hover {\n",
              "      background-color: #434B5C;\n",
              "      box-shadow: 0px 1px 3px 1px rgba(0, 0, 0, 0.15);\n",
              "      filter: drop-shadow(0px 1px 2px rgba(0, 0, 0, 0.3));\n",
              "      fill: #FFFFFF;\n",
              "    }\n",
              "  </style>\n",
              "\n",
              "      <script>\n",
              "        const buttonEl =\n",
              "          document.querySelector('#df-afd02b6f-1973-4c0c-81ff-e975d19ac94e button.colab-df-convert');\n",
              "        buttonEl.style.display =\n",
              "          google.colab.kernel.accessAllowed ? 'block' : 'none';\n",
              "\n",
              "        async function convertToInteractive(key) {\n",
              "          const element = document.querySelector('#df-afd02b6f-1973-4c0c-81ff-e975d19ac94e');\n",
              "          const dataTable =\n",
              "            await google.colab.kernel.invokeFunction('convertToInteractive',\n",
              "                                                     [key], {});\n",
              "          if (!dataTable) return;\n",
              "\n",
              "          const docLinkHtml = 'Like what you see? Visit the ' +\n",
              "            '<a target=\"_blank\" href=https://colab.research.google.com/notebooks/data_table.ipynb>data table notebook</a>'\n",
              "            + ' to learn more about interactive tables.';\n",
              "          element.innerHTML = '';\n",
              "          dataTable['output_type'] = 'display_data';\n",
              "          await google.colab.output.renderOutput(dataTable, element);\n",
              "          const docLink = document.createElement('div');\n",
              "          docLink.innerHTML = docLinkHtml;\n",
              "          element.appendChild(docLink);\n",
              "        }\n",
              "      </script>\n",
              "    </div>\n",
              "  </div>\n",
              "  "
            ],
            "text/plain": [
              "                  category  rating  relevanceScore  clientType\n",
              "0  beli-harddisk-eksternal       5           26.51  androidApp\n",
              "1  beli-harddisk-eksternal       4           22.49  androidApp\n",
              "2  beli-harddisk-eksternal       5           21.50  androidApp\n",
              "3  beli-harddisk-eksternal       4           20.51  androidApp\n",
              "4  beli-harddisk-eksternal       5           16.01  androidApp"
            ]
          },
          "metadata": {},
          "execution_count": 49
        }
      ],
      "source": [
        "#hiển thị cột bắt buộc\n",
        "df.head()"
      ]
    },
    {
      "cell_type": "markdown",
      "metadata": {
        "id": "ksfYaGu4g2Td"
      },
      "source": [
        "-xử lý các mục nhập trùng lặp"
      ]
    },
    {
      "cell_type": "code",
      "execution_count": null,
      "metadata": {
        "colab": {
          "base_uri": "https://localhost:8080/"
        },
        "id": "nSPbQMezg6P_",
        "outputId": "2e2494b3-8e57-46da-cdf8-3b01bc0b1744"
      },
      "outputs": [
        {
          "output_type": "execute_result",
          "data": {
            "text/plain": [
              "177940"
            ]
          },
          "metadata": {},
          "execution_count": 50
        }
      ],
      "source": [
        "#kiểm tra các mục nhập trùng lặp\n",
        "df.duplicated().sum()"
      ]
    },
    {
      "cell_type": "code",
      "execution_count": null,
      "metadata": {
        "id": "a5Un-W_ghUax"
      },
      "outputs": [],
      "source": [
        "#xóa bỏ dữ liệu trùng lặp\n",
        "\n",
        "df = df.drop_duplicates()"
      ]
    },
    {
      "cell_type": "code",
      "execution_count": null,
      "metadata": {
        "colab": {
          "base_uri": "https://localhost:8080/"
        },
        "id": "ALBGu6bhhfBG",
        "outputId": "683c7145-2c90-4f3b-a3dd-4830e9c8bca3"
      },
      "outputs": [
        {
          "output_type": "execute_result",
          "data": {
            "text/plain": [
              "0"
            ]
          },
          "metadata": {},
          "execution_count": 52
        }
      ],
      "source": [
        "#kiểm tra các mục nhập trùng lặp\n",
        "df.duplicated().sum()"
      ]
    },
    {
      "cell_type": "markdown",
      "metadata": {
        "id": "oFu4SE_Gho0n"
      },
      "source": [
        "- xử lý các giá trị bị thiếu"
      ]
    },
    {
      "cell_type": "code",
      "execution_count": null,
      "metadata": {
        "colab": {
          "base_uri": "https://localhost:8080/"
        },
        "id": "B3jJN0xdimw0",
        "outputId": "b973acae-17b4-48c8-e0ec-ce2c0e927994"
      },
      "outputs": [
        {
          "output_type": "execute_result",
          "data": {
            "text/plain": [
              "category          0\n",
              "rating            0\n",
              "relevanceScore    0\n",
              "clientType        0\n",
              "dtype: int64"
            ]
          },
          "metadata": {},
          "execution_count": 53
        }
      ],
      "source": [
        "#kiểm tra các giá trị bị thiếu\n",
        "df.isnull().sum()"
      ]
    },
    {
      "cell_type": "markdown",
      "metadata": {
        "id": "C38dzzkXkII8"
      },
      "source": [
        "- Xử lý các giá trị không tự nhiên"
      ]
    },
    {
      "cell_type": "code",
      "execution_count": null,
      "metadata": {
        "colab": {
          "base_uri": "https://localhost:8080/"
        },
        "id": "IZNCRbn2kF1l",
        "outputId": "e0048ba6-c7b7-46b9-820e-36e75cfdcbbf"
      },
      "outputs": [
        {
          "output_type": "execute_result",
          "data": {
            "text/plain": [
              "category          beli-harddisk-eksternal\n",
              "rating                                  1\n",
              "relevanceScore                       0.96\n",
              "clientType                     androidApp\n",
              "dtype: object"
            ]
          },
          "metadata": {},
          "execution_count": 54
        }
      ],
      "source": [
        "#giá trị nhỏ nhất\n",
        "df.min()"
      ]
    },
    {
      "cell_type": "code",
      "execution_count": null,
      "metadata": {
        "colab": {
          "base_uri": "https://localhost:8080/"
        },
        "id": "xBqTwRC_kUPv",
        "outputId": "f2be071b-0cc4-4360-ae64-ba2e0fe329ab"
      },
      "outputs": [
        {
          "output_type": "execute_result",
          "data": {
            "text/plain": [
              "category          shop-televisi-digital\n",
              "rating                                5\n",
              "relevanceScore                     76.5\n",
              "clientType                   mobile-app\n",
              "dtype: object"
            ]
          },
          "metadata": {},
          "execution_count": 55
        }
      ],
      "source": [
        "#giá trị lớn nhất\n",
        "df.max()"
      ]
    },
    {
      "cell_type": "code",
      "execution_count": null,
      "metadata": {
        "colab": {
          "base_uri": "https://localhost:8080/"
        },
        "id": "2jasH1TDlVz2",
        "outputId": "d26c13bf-d3f9-4586-c31a-22ed58ccd021"
      },
      "outputs": [
        {
          "output_type": "execute_result",
          "data": {
            "text/plain": [
              "rating           -0.897521\n",
              "relevanceScore    0.603911\n",
              "dtype: float64"
            ]
          },
          "metadata": {},
          "execution_count": 56
        }
      ],
      "source": [
        "df.skew()"
      ]
    },
    {
      "cell_type": "code",
      "execution_count": null,
      "metadata": {
        "colab": {
          "base_uri": "https://localhost:8080/",
          "height": 423
        },
        "id": "HpPytzgSmP-h",
        "outputId": "be122fae-57eb-4f5f-a91a-b2cce39bd6e0"
      },
      "outputs": [
        {
          "output_type": "execute_result",
          "data": {
            "text/html": [
              "\n",
              "  <div id=\"df-9983c5f0-e538-49c4-a73d-df481e154f9f\">\n",
              "    <div class=\"colab-df-container\">\n",
              "      <div>\n",
              "<style scoped>\n",
              "    .dataframe tbody tr th:only-of-type {\n",
              "        vertical-align: middle;\n",
              "    }\n",
              "\n",
              "    .dataframe tbody tr th {\n",
              "        vertical-align: top;\n",
              "    }\n",
              "\n",
              "    .dataframe thead th {\n",
              "        text-align: right;\n",
              "    }\n",
              "</style>\n",
              "<table border=\"1\" class=\"dataframe\">\n",
              "  <thead>\n",
              "    <tr style=\"text-align: right;\">\n",
              "      <th></th>\n",
              "      <th>category</th>\n",
              "      <th>rating</th>\n",
              "      <th>relevanceScore</th>\n",
              "      <th>clientType</th>\n",
              "    </tr>\n",
              "  </thead>\n",
              "  <tbody>\n",
              "    <tr>\n",
              "      <th>0</th>\n",
              "      <td>beli-harddisk-eksternal</td>\n",
              "      <td>5</td>\n",
              "      <td>26.51</td>\n",
              "      <td>androidApp</td>\n",
              "    </tr>\n",
              "    <tr>\n",
              "      <th>1</th>\n",
              "      <td>beli-harddisk-eksternal</td>\n",
              "      <td>4</td>\n",
              "      <td>22.49</td>\n",
              "      <td>androidApp</td>\n",
              "    </tr>\n",
              "    <tr>\n",
              "      <th>2</th>\n",
              "      <td>beli-harddisk-eksternal</td>\n",
              "      <td>5</td>\n",
              "      <td>21.50</td>\n",
              "      <td>androidApp</td>\n",
              "    </tr>\n",
              "    <tr>\n",
              "      <th>3</th>\n",
              "      <td>beli-harddisk-eksternal</td>\n",
              "      <td>4</td>\n",
              "      <td>20.51</td>\n",
              "      <td>androidApp</td>\n",
              "    </tr>\n",
              "    <tr>\n",
              "      <th>4</th>\n",
              "      <td>beli-harddisk-eksternal</td>\n",
              "      <td>5</td>\n",
              "      <td>16.01</td>\n",
              "      <td>androidApp</td>\n",
              "    </tr>\n",
              "    <tr>\n",
              "      <th>...</th>\n",
              "      <td>...</td>\n",
              "      <td>...</td>\n",
              "      <td>...</td>\n",
              "      <td>...</td>\n",
              "    </tr>\n",
              "    <tr>\n",
              "      <th>203772</th>\n",
              "      <td>shop-televisi-digital</td>\n",
              "      <td>4</td>\n",
              "      <td>21.29</td>\n",
              "      <td>desktop</td>\n",
              "    </tr>\n",
              "    <tr>\n",
              "      <th>203776</th>\n",
              "      <td>shop-televisi-digital</td>\n",
              "      <td>1</td>\n",
              "      <td>14.79</td>\n",
              "      <td>androidApp</td>\n",
              "    </tr>\n",
              "    <tr>\n",
              "      <th>203779</th>\n",
              "      <td>shop-televisi-digital</td>\n",
              "      <td>1</td>\n",
              "      <td>10.35</td>\n",
              "      <td>mobile-app</td>\n",
              "    </tr>\n",
              "    <tr>\n",
              "      <th>203782</th>\n",
              "      <td>shop-televisi-digital</td>\n",
              "      <td>5</td>\n",
              "      <td>24.63</td>\n",
              "      <td>desktop</td>\n",
              "    </tr>\n",
              "    <tr>\n",
              "      <th>203785</th>\n",
              "      <td>shop-televisi-digital</td>\n",
              "      <td>3</td>\n",
              "      <td>19.48</td>\n",
              "      <td>mobile-app</td>\n",
              "    </tr>\n",
              "  </tbody>\n",
              "</table>\n",
              "<p>25847 rows × 4 columns</p>\n",
              "</div>\n",
              "      <button class=\"colab-df-convert\" onclick=\"convertToInteractive('df-9983c5f0-e538-49c4-a73d-df481e154f9f')\"\n",
              "              title=\"Convert this dataframe to an interactive table.\"\n",
              "              style=\"display:none;\">\n",
              "        \n",
              "  <svg xmlns=\"http://www.w3.org/2000/svg\" height=\"24px\"viewBox=\"0 0 24 24\"\n",
              "       width=\"24px\">\n",
              "    <path d=\"M0 0h24v24H0V0z\" fill=\"none\"/>\n",
              "    <path d=\"M18.56 5.44l.94 2.06.94-2.06 2.06-.94-2.06-.94-.94-2.06-.94 2.06-2.06.94zm-11 1L8.5 8.5l.94-2.06 2.06-.94-2.06-.94L8.5 2.5l-.94 2.06-2.06.94zm10 10l.94 2.06.94-2.06 2.06-.94-2.06-.94-.94-2.06-.94 2.06-2.06.94z\"/><path d=\"M17.41 7.96l-1.37-1.37c-.4-.4-.92-.59-1.43-.59-.52 0-1.04.2-1.43.59L10.3 9.45l-7.72 7.72c-.78.78-.78 2.05 0 2.83L4 21.41c.39.39.9.59 1.41.59.51 0 1.02-.2 1.41-.59l7.78-7.78 2.81-2.81c.8-.78.8-2.07 0-2.86zM5.41 20L4 18.59l7.72-7.72 1.47 1.35L5.41 20z\"/>\n",
              "  </svg>\n",
              "      </button>\n",
              "      \n",
              "  <style>\n",
              "    .colab-df-container {\n",
              "      display:flex;\n",
              "      flex-wrap:wrap;\n",
              "      gap: 12px;\n",
              "    }\n",
              "\n",
              "    .colab-df-convert {\n",
              "      background-color: #E8F0FE;\n",
              "      border: none;\n",
              "      border-radius: 50%;\n",
              "      cursor: pointer;\n",
              "      display: none;\n",
              "      fill: #1967D2;\n",
              "      height: 32px;\n",
              "      padding: 0 0 0 0;\n",
              "      width: 32px;\n",
              "    }\n",
              "\n",
              "    .colab-df-convert:hover {\n",
              "      background-color: #E2EBFA;\n",
              "      box-shadow: 0px 1px 2px rgba(60, 64, 67, 0.3), 0px 1px 3px 1px rgba(60, 64, 67, 0.15);\n",
              "      fill: #174EA6;\n",
              "    }\n",
              "\n",
              "    [theme=dark] .colab-df-convert {\n",
              "      background-color: #3B4455;\n",
              "      fill: #D2E3FC;\n",
              "    }\n",
              "\n",
              "    [theme=dark] .colab-df-convert:hover {\n",
              "      background-color: #434B5C;\n",
              "      box-shadow: 0px 1px 3px 1px rgba(0, 0, 0, 0.15);\n",
              "      filter: drop-shadow(0px 1px 2px rgba(0, 0, 0, 0.3));\n",
              "      fill: #FFFFFF;\n",
              "    }\n",
              "  </style>\n",
              "\n",
              "      <script>\n",
              "        const buttonEl =\n",
              "          document.querySelector('#df-9983c5f0-e538-49c4-a73d-df481e154f9f button.colab-df-convert');\n",
              "        buttonEl.style.display =\n",
              "          google.colab.kernel.accessAllowed ? 'block' : 'none';\n",
              "\n",
              "        async function convertToInteractive(key) {\n",
              "          const element = document.querySelector('#df-9983c5f0-e538-49c4-a73d-df481e154f9f');\n",
              "          const dataTable =\n",
              "            await google.colab.kernel.invokeFunction('convertToInteractive',\n",
              "                                                     [key], {});\n",
              "          if (!dataTable) return;\n",
              "\n",
              "          const docLinkHtml = 'Like what you see? Visit the ' +\n",
              "            '<a target=\"_blank\" href=https://colab.research.google.com/notebooks/data_table.ipynb>data table notebook</a>'\n",
              "            + ' to learn more about interactive tables.';\n",
              "          element.innerHTML = '';\n",
              "          dataTable['output_type'] = 'display_data';\n",
              "          await google.colab.output.renderOutput(dataTable, element);\n",
              "          const docLink = document.createElement('div');\n",
              "          docLink.innerHTML = docLinkHtml;\n",
              "          element.appendChild(docLink);\n",
              "        }\n",
              "      </script>\n",
              "    </div>\n",
              "  </div>\n",
              "  "
            ],
            "text/plain": [
              "                       category  rating  relevanceScore  clientType\n",
              "0       beli-harddisk-eksternal       5           26.51  androidApp\n",
              "1       beli-harddisk-eksternal       4           22.49  androidApp\n",
              "2       beli-harddisk-eksternal       5           21.50  androidApp\n",
              "3       beli-harddisk-eksternal       4           20.51  androidApp\n",
              "4       beli-harddisk-eksternal       5           16.01  androidApp\n",
              "...                         ...     ...             ...         ...\n",
              "203772    shop-televisi-digital       4           21.29     desktop\n",
              "203776    shop-televisi-digital       1           14.79  androidApp\n",
              "203779    shop-televisi-digital       1           10.35  mobile-app\n",
              "203782    shop-televisi-digital       5           24.63     desktop\n",
              "203785    shop-televisi-digital       3           19.48  mobile-app\n",
              "\n",
              "[25847 rows x 4 columns]"
            ]
          },
          "metadata": {},
          "execution_count": 57
        }
      ],
      "source": [
        "df"
      ]
    },
    {
      "cell_type": "markdown",
      "metadata": {
        "id": "C2DfVTlPlYRh"
      },
      "source": [
        "Sau khi xử lý làm sạch dữ liệu, tập dữ liệu bao gồm 25.847 hàng và 4 cột."
      ]
    },
    {
      "cell_type": "markdown",
      "metadata": {
        "id": "iLPzqr_sl1DJ"
      },
      "source": [
        "##**3.Phân tích**\n"
      ]
    },
    {
      "cell_type": "markdown",
      "metadata": {
        "id": "_9IX_gRZl9qM"
      },
      "source": [
        "###**Sử dụng trực quan hóa dữ liệu**"
      ]
    },
    {
      "cell_type": "markdown",
      "metadata": {
        "id": "F_-k25LSmAg-"
      },
      "source": [
        "#### **1. Phân tích đơn biến**"
      ]
    },
    {
      "cell_type": "code",
      "execution_count": null,
      "metadata": {
        "colab": {
          "base_uri": "https://localhost:8080/"
        },
        "id": "BFAQ86K3mYhG",
        "outputId": "5c011d9a-f04b-443c-dd66-84d6c8377c4f"
      },
      "outputs": [
        {
          "output_type": "execute_result",
          "data": {
            "text/plain": [
              "Index(['category', 'rating', 'relevanceScore', 'clientType'], dtype='object')"
            ]
          },
          "metadata": {},
          "execution_count": 58
        }
      ],
      "source": [
        "df.columns"
      ]
    },
    {
      "cell_type": "code",
      "execution_count": null,
      "metadata": {
        "colab": {
          "base_uri": "https://localhost:8080/",
          "height": 813
        },
        "id": "ar57HEnlmb3U",
        "outputId": "5c8bee99-40c0-4896-99c7-f80938d3db45"
      },
      "outputs": [
        {
          "output_type": "stream",
          "name": "stderr",
          "text": [
            "/usr/local/lib/python3.7/dist-packages/seaborn/_decorators.py:43: FutureWarning: Pass the following variable as a keyword arg: x. From version 0.12, the only valid positional argument will be `data`, and passing other arguments without an explicit keyword will result in an error or misinterpretation.\n",
            "  FutureWarning\n"
          ]
        },
        {
          "output_type": "display_data",
          "data": {
            "image/png": "[encoded data removed]",
            "text/plain": [
              "<Figure size 720x216 with 1 Axes>"
            ]
          },
          "metadata": {
            "needs_background": "light"
          }
        },
        {
          "output_type": "stream",
          "name": "stderr",
          "text": [
            "/usr/local/lib/python3.7/dist-packages/seaborn/_decorators.py:43: FutureWarning: Pass the following variable as a keyword arg: x. From version 0.12, the only valid positional argument will be `data`, and passing other arguments without an explicit keyword will result in an error or misinterpretation.\n",
            "  FutureWarning\n"
          ]
        },
        {
          "output_type": "display_data",
          "data": {
            "image/png": "[encoded data removed]",
            "text/plain": [
              "<Figure size 720x216 with 1 Axes>"
            ]
          },
          "metadata": {
            "needs_background": "light"
          }
        },
        {
          "output_type": "stream",
          "name": "stderr",
          "text": [
            "/usr/local/lib/python3.7/dist-packages/seaborn/_decorators.py:43: FutureWarning: Pass the following variable as a keyword arg: x. From version 0.12, the only valid positional argument will be `data`, and passing other arguments without an explicit keyword will result in an error or misinterpretation.\n",
            "  FutureWarning\n"
          ]
        },
        {
          "output_type": "display_data",
          "data": {
            "image/png": "[encoded data removed]",
            "text/plain": [
              "<Figure size 720x216 with 1 Axes>"
            ]
          },
          "metadata": {
            "needs_background": "light"
          }
        }
      ],
      "source": [
        "cat = ['category', 'clientType', 'rating']\n",
        "\n",
        "for col in cat:\n",
        "  plt.figure(figsize=(10,3))\n",
        "  sns.countplot(df[col])\n",
        "  plt.title(col)\n",
        "  plt.show()"
      ]
    },
    {
      "cell_type": "code",
      "execution_count": null,
      "metadata": {
        "colab": {
          "base_uri": "https://localhost:8080/",
          "height": 227
        },
        "id": "lWBUifOPnw87",
        "outputId": "e75b52b2-00b0-4ac6-b08f-3ad8763df699"
      },
      "outputs": [
        {
          "output_type": "display_data",
          "data": {
            "image/png": "[encoded data removed]",
            "text/plain": [
              "<Figure size 720x216 with 1 Axes>"
            ]
          },
          "metadata": {
            "needs_background": "light"
          }
        }
      ],
      "source": [
        "cat = ['relevanceScore']\n",
        "\n",
        "for col in cat:\n",
        "  plt.figure(figsize=(10,3))\n",
        "  plt.scatter(df.index,df[col])\n",
        "  plt.title(col)\n",
        "  plt.show()"
      ]
    },
    {
      "cell_type": "markdown",
      "metadata": {
        "id": "WB1ARw7ZmREa"
      },
      "source": [
        "**Phân tích :** \n",
        "\n",
        "1. Hơn 8.000 khách hàng của Lazada đã mua hàng cho danh mục sản phẩm Ổ cứng gắn ngoài.\n",
        "2. Hơn 10.000 khách hàng của Lazada thực hiện giao dịch trên Android.\n",
        "3. Hơn 12.000 khách hàng của Lazada đưa ra đánh giá 5 cho các sản phẩm họ đã mua.\n",
        "Khách hàng của Lazada có xu hướng hài lòng với sản phẩm họ mua với khoảng điểm mức độ phù hợp từ 30 - 40.\n",
        "\n"
      ]
    },
    {
      "cell_type": "markdown",
      "metadata": {
        "id": "mFkcKoUtp9E-"
      },
      "source": [
        "**2. Phân tích đa biến**"
      ]
    },
    {
      "cell_type": "markdown",
      "metadata": {
        "id": "J_zo0N05uIJE"
      },
      "source": [
        "Trong phần này, phân tích đa biến được sử dụng để hình dung việc so sánh một số cột có mối tương quan mạnh nhất."
      ]
    },
    {
      "cell_type": "code",
      "execution_count": null,
      "metadata": {
        "colab": {
          "base_uri": "https://localhost:8080/",
          "height": 388
        },
        "id": "slCdRRiMiFUy",
        "outputId": "d3a5b349-c38f-4e33-80a6-beae11d5076e"
      },
      "outputs": [
        {
          "output_type": "display_data",
          "data": {
            "image/png": "[encoded data removed]",
            "text/plain": [
              "<Figure size 1080x432 with 1 Axes>"
            ]
          },
          "metadata": {
            "needs_background": "light"
          }
        }
      ],
      "source": [
        "plt.figure(figsize=(15,6))\n",
        "sns.pointplot(x=\"category\", y=\"relevanceScore\", hue=\"rating\", data=df)\n",
        "plt.show()"
      ]
    },
    {
      "cell_type": "code",
      "execution_count": null,
      "metadata": {
        "colab": {
          "base_uri": "https://localhost:8080/",
          "height": 388
        },
        "id": "jaLpf6cuimVO",
        "outputId": "ce82d316-ce13-49cb-e4a9-84d5c80cf332"
      },
      "outputs": [
        {
          "output_type": "display_data",
          "data": {
            "image/png": "[encoded data removed]",
            "text/plain": [
              "<Figure size 1080x432 with 1 Axes>"
            ]
          },
          "metadata": {
            "needs_background": "light"
          }
        }
      ],
      "source": [
        "plt.figure(figsize=(15,6))\n",
        "sns.pointplot(x=\"clientType\", y=\"relevanceScore\", hue=\"rating\", data=df)\n",
        "plt.show()"
      ]
    },
    {
      "cell_type": "markdown",
      "metadata": {
        "id": "Bi0LA1B9qKWL"
      },
      "source": [
        "##**Kết luận**\n"
      ]
    },
    {
      "cell_type": "markdown",
      "metadata": {
        "id": "mou0Vmn8qXFy"
      },
      "source": [
        "- Khách hàng mua hàng trong danh mục sản phẩm Máy tính xách tay, TV thông minh và TV kỹ thuật số có xu hướng đưa ra xếp hạng tốt và hài lòng với chất lượng sản phẩm họ đã mua.\n",
        "- Mặc dù các giao dịch mua hàng diễn ra trên nhiều thiết bị di động khác nhau, nhưng hầu hết các giao dịch mà khách hàng của Lazada thực hiện đều có xếp hạng cao và có mức độ phù hợp cao với sản phẩm họ đã mua."
      ]
    }
  ],
  "metadata": {
    "colab": {
      "collapsed_sections": [],
      "name": "dữ_liệu_lazada_Indonesia.ipynb",
      "provenance": [],
      "include_colab_link": true
    },
    "kernelspec": {
      "display_name": "Python 3",
      "name": "python3"
    },
    "language_info": {
      "name": "python"
    }
  },
  "nbformat": 4,
  "nbformat_minor": 0
}